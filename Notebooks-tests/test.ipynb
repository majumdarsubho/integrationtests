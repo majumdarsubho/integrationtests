%%pytest

def test_my_stuff():
    assert 42 == 42